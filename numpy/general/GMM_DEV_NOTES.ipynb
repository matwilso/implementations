{
 "cells": [
  {
   "cell_type": "markdown",
   "metadata": {},
   "source": [
    "## Resources\n",
    "http://cs229.stanford.edu/notes/cs229-notes7b.pdf\n",
    "\n",
    "https://people.eecs.berkeley.edu/~pabbeel/cs287-fa13/slides/Likelihood_EM_HMM_Kalman.pdf\n",
    "\n",
    "https://www2.ee.washington.edu/techsite/papers/documents/UWEETR-2010-0002.pdf\n"
   ]
  },
  {
   "cell_type": "code",
   "execution_count": 377,
   "metadata": {},
   "outputs": [],
   "source": [
    "import numpy as np\n",
    "import matplotlib as mpl\n",
    "import matplotlib.pyplot as plt"
   ]
  },
  {
   "cell_type": "code",
   "execution_count": 573,
   "metadata": {},
   "outputs": [],
   "source": [
    "colors = ['orange', 'green', 'red']\n",
    "\n",
    "\n",
    "def make_ellipses(means, covs, ax):\n",
    "    ells = []\n",
    "    for i, color in enumerate(colors):\n",
    "        mean = means[i]\n",
    "        cov = covs[i]\n",
    "        v, w = np.linalg.eigh(cov)\n",
    "        u = w[0] / np.linalg.norm(w[0])\n",
    "        angle = np.arctan2(u[1], u[0])\n",
    "        angle = 180 * angle / np.pi  # convert to degrees\n",
    "        v = 2. * np.sqrt(2.) * np.sqrt(v)\n",
    "        ell = mpl.patches.Ellipse(mean, v[0], v[1],180 + angle, color=color, label='Cluster k = {}'.format(i))\n",
    "        ell.set_clip_box(ax.bbox)\n",
    "        ell.set_alpha(0.5)\n",
    "        ax.add_artist(ell)\n",
    "        ells.append(ell)\n",
    "    return ells\n"
   ]
  },
  {
   "cell_type": "code",
   "execution_count": 620,
   "metadata": {},
   "outputs": [
    {
     "data": {
      "image/png": "[encoded data removed]",
      "text/plain": [
       "<matplotlib.figure.Figure at 0x7f5464acf588>"
      ]
     },
     "metadata": {},
     "output_type": "display_data"
    }
   ],
   "source": [
    "# np.random.seed(42)\n",
    "means = np.array([\n",
    "         [0.0, 5.0],\n",
    "         [5.0, 0.0],\n",
    "         [-4.0, -1.0],\n",
    "        ])\n",
    "          \n",
    "covs = np.array([\n",
    "        [[5.0, 0.0],[0.0, 1.0]],\n",
    "        [[1.0, -1.0],[-1.0, 3.0]],\n",
    "        [[1.0, 2.0],[2.0, 6.0]]\n",
    "       ])\n",
    "\n",
    "N = 100\n",
    "D = means.shape[1]\n",
    "K = means.shape[0]\n",
    "\n",
    "data = np.ndarray([N, D])\n",
    "# TODO: could convert to func to apply_along_axis\n",
    "for i in range(N):\n",
    "    j = np.random.randint(0, K)\n",
    "    data[i] = np.random.multivariate_normal(means[j], covs[j])\n",
    "    \n",
    "from gmm import GMM\n",
    "gmm = GMM()\n",
    "pred_means, pred_covs = gmm._initialize_params(data, 3)\n",
    "\n",
    "x, y = np.hsplit(data, 2)\n",
    "px, py = np.hsplit(pred_means, 2)\n",
    "\n",
    "\n",
    "p1 = plt.plot(x, y,'o', label='Samples from three different 2D Gaussians')[0]\n",
    "p2 = plt.plot(px, py,'o', label='Initial means for GMM using k-means initialization')[0]\n",
    "plt.axis([-10, 10, -10, 10])\n",
    "ax = plt.gca()\n",
    "ells = make_ellipses(pred_means, pred_covs, ax)\n",
    "ells = [p1, p2]\n",
    "plt.legend(ells, [thing.get_label() for thing in ells])\n",
    "plt.title('Dummy Data')\n",
    "# plt.legend()\n",
    "# ax.legend()\n",
    "plt.savefig('dummy.png')\n",
    "plt.show()"
   ]
  },
  {
   "cell_type": "markdown",
   "metadata": {},
   "source": [
    "# Scratch work"
   ]
  },
  {
   "cell_type": "code",
   "execution_count": 793,
   "metadata": {},
   "outputs": [
    {
     "data": {
      "text/plain": [
       "array([ 0.39020654,  0.34880031,  0.26099315])"
      ]
     },
     "execution_count": 793,
     "metadata": {},
     "output_type": "execute_result"
    }
   ],
   "source": [
    "weight_update"
   ]
  },
  {
   "cell_type": "code",
   "execution_count": 797,
   "metadata": {},
   "outputs": [
    {
     "name": "stdout",
     "output_type": "stream",
     "text": [
      "[-1.315655    3.67016301] [[ 11.45897511  11.45897311]\n",
      " [ 11.45897311  11.45897511]]\n",
      "0.0\n",
      "[ 1.10261271 -0.7900871 ] [[ 23.60281055  23.60280855]\n",
      " [ 23.60280855  23.60281055]]\n",
      "0.0\n",
      "[ 5.58584993 -1.75746507] [[ 0.7547106  0.7547086]\n",
      " [ 0.7547086  0.7547106]]\n",
      "0.0\n",
      "[-1.315655    3.67016301] [[ 11.45897511  11.45897311]\n",
      " [ 11.45897311  11.45897511]]\n",
      "0.0\n",
      "[ 1.10261271 -0.7900871 ] [[ 23.60281055  23.60280855]\n",
      " [ 23.60280855  23.60281055]]\n",
      "0.0\n",
      "[ 5.58584993 -1.75746507] [[ 0.7547106  0.7547086]\n",
      " [ 0.7547086  0.7547106]]\n",
      "0.0\n",
      "[-1.315655    3.67016301] [[ 11.45897511  11.45897311]\n",
      " [ 11.45897311  11.45897511]]\n",
      "0.0\n",
      "[ 1.10261271 -0.7900871 ] [[ 23.60281055  23.60280855]\n",
      " [ 23.60280855  23.60281055]]\n",
      "0.0\n",
      "[ 5.58584993 -1.75746507] [[ 0.7547106  0.7547086]\n",
      " [ 0.7547086  0.7547106]]\n",
      "0.0\n",
      "[-1.315655    3.67016301] [[ 11.45897511  11.45897311]\n",
      " [ 11.45897311  11.45897511]]\n",
      "0.0\n",
      "[ 1.10261271 -0.7900871 ] [[ 23.60281055  23.60280855]\n",
      " [ 23.60280855  23.60281055]]\n",
      "0.0\n",
      "[ 5.58584993 -1.75746507] [[ 0.7547106  0.7547086]\n",
      " [ 0.7547086  0.7547106]]\n",
      "0.0\n",
      "[-1.315655    3.67016301] [[ 11.45897511  11.45897311]\n",
      " [ 11.45897311  11.45897511]]\n",
      "0.0\n",
      "[ 1.10261271 -0.7900871 ] [[ 23.60281055  23.60280855]\n",
      " [ 23.60280855  23.60281055]]\n",
      "0.0\n",
      "[ 5.58584993 -1.75746507] [[ 0.7547106  0.7547086]\n",
      " [ 0.7547086  0.7547106]]\n",
      "0.0\n",
      "[-1.315655    3.67016301] [[ 11.45897511  11.45897311]\n",
      " [ 11.45897311  11.45897511]]\n",
      "0.0\n",
      "[ 1.10261271 -0.7900871 ] [[ 23.60281055  23.60280855]\n",
      " [ 23.60280855  23.60281055]]\n",
      "0.0\n",
      "[ 5.58584993 -1.75746507] [[ 0.7547106  0.7547086]\n",
      " [ 0.7547086  0.7547106]]\n",
      "0.0\n",
      "[-1.315655    3.67016301] [[ 11.45897511  11.45897311]\n",
      " [ 11.45897311  11.45897511]]\n",
      "0.0\n",
      "[ 1.10261271 -0.7900871 ] [[ 23.60281055  23.60280855]\n",
      " [ 23.60280855  23.60281055]]\n",
      "0.0\n",
      "[ 5.58584993 -1.75746507] [[ 0.7547106  0.7547086]\n",
      " [ 0.7547086  0.7547106]]\n",
      "0.0\n",
      "[-1.315655    3.67016301] [[ 11.45897511  11.45897311]\n",
      " [ 11.45897311  11.45897511]]\n",
      "0.0\n",
      "[ 1.10261271 -0.7900871 ] [[ 23.60281055  23.60280855]\n",
      " [ 23.60280855  23.60281055]]\n",
      "0.0\n",
      "[ 5.58584993 -1.75746507] [[ 0.7547106  0.7547086]\n",
      " [ 0.7547086  0.7547106]]\n",
      "0.0\n",
      "[-1.315655    3.67016301] [[ 11.45897511  11.45897311]\n",
      " [ 11.45897311  11.45897511]]\n",
      "0.0\n",
      "[ 1.10261271 -0.7900871 ] [[ 23.60281055  23.60280855]\n",
      " [ 23.60280855  23.60281055]]\n",
      "0.0\n",
      "[ 5.58584993 -1.75746507] [[ 0.7547106  0.7547086]\n",
      " [ 0.7547086  0.7547106]]\n",
      "0.0\n",
      "[-1.315655    3.67016301] [[ 11.45897511  11.45897311]\n",
      " [ 11.45897311  11.45897511]]\n",
      "0.0\n",
      "[ 1.10261271 -0.7900871 ] [[ 23.60281055  23.60280855]\n",
      " [ 23.60280855  23.60281055]]\n",
      "0.0\n",
      "[ 5.58584993 -1.75746507] [[ 0.7547106  0.7547086]\n",
      " [ 0.7547086  0.7547106]]\n",
      "0.0\n",
      "[-1.315655    3.67016301] [[ 11.45897511  11.45897311]\n",
      " [ 11.45897311  11.45897511]]\n",
      "0.0\n",
      "[ 1.10261271 -0.7900871 ] [[ 23.60281055  23.60280855]\n",
      " [ 23.60280855  23.60281055]]\n",
      "0.0\n",
      "[ 5.58584993 -1.75746507] [[ 0.7547106  0.7547086]\n",
      " [ 0.7547086  0.7547106]]\n",
      "0.0\n",
      "[-1.315655    3.67016301] [[ 11.45897511  11.45897311]\n",
      " [ 11.45897311  11.45897511]]\n",
      "0.0\n",
      "[ 1.10261271 -0.7900871 ] [[ 23.60281055  23.60280855]\n",
      " [ 23.60280855  23.60281055]]\n",
      "0.0\n",
      "[ 5.58584993 -1.75746507] [[ 0.7547106  0.7547086]\n",
      " [ 0.7547086  0.7547106]]\n",
      "0.0\n",
      "[-1.315655    3.67016301] [[ 11.45897511  11.45897311]\n",
      " [ 11.45897311  11.45897511]]\n",
      "0.0\n",
      "[ 1.10261271 -0.7900871 ] [[ 23.60281055  23.60280855]\n",
      " [ 23.60280855  23.60281055]]\n",
      "0.0\n",
      "[ 5.58584993 -1.75746507] [[ 0.7547106  0.7547086]\n",
      " [ 0.7547086  0.7547106]]\n",
      "0.0\n",
      "[-1.315655    3.67016301] [[ 11.45897511  11.45897311]\n",
      " [ 11.45897311  11.45897511]]\n",
      "0.0\n",
      "[ 1.10261271 -0.7900871 ] [[ 23.60281055  23.60280855]\n",
      " [ 23.60280855  23.60281055]]\n",
      "0.0\n",
      "[ 5.58584993 -1.75746507] [[ 0.7547106  0.7547086]\n",
      " [ 0.7547086  0.7547106]]\n",
      "0.0\n",
      "[-1.315655    3.67016301] [[ 11.45897511  11.45897311]\n",
      " [ 11.45897311  11.45897511]]\n",
      "4.74303020008e-322\n",
      "[ 1.10261271 -0.7900871 ] [[ 23.60281055  23.60280855]\n",
      " [ 23.60280855  23.60281055]]\n",
      "0.0\n",
      "[ 5.58584993 -1.75746507] [[ 0.7547106  0.7547086]\n",
      " [ 0.7547086  0.7547106]]\n",
      "0.0\n",
      "[-1.315655    3.67016301] [[ 11.45897511  11.45897311]\n",
      " [ 11.45897311  11.45897511]]\n",
      "0.0\n",
      "[ 1.10261271 -0.7900871 ] [[ 23.60281055  23.60280855]\n",
      " [ 23.60280855  23.60281055]]\n",
      "0.0\n",
      "[ 5.58584993 -1.75746507] [[ 0.7547106  0.7547086]\n",
      " [ 0.7547086  0.7547106]]\n",
      "0.0\n",
      "[-1.315655    3.67016301] [[ 11.45897511  11.45897311]\n",
      " [ 11.45897311  11.45897511]]\n",
      "0.0\n",
      "[ 1.10261271 -0.7900871 ] [[ 23.60281055  23.60280855]\n",
      " [ 23.60280855  23.60281055]]\n",
      "0.0\n",
      "[ 5.58584993 -1.75746507] [[ 0.7547106  0.7547086]\n",
      " [ 0.7547086  0.7547106]]\n",
      "0.0\n",
      "[-1.315655    3.67016301] [[ 11.45897511  11.45897311]\n",
      " [ 11.45897311  11.45897511]]\n",
      "0.0\n",
      "[ 1.10261271 -0.7900871 ] [[ 23.60281055  23.60280855]\n",
      " [ 23.60280855  23.60281055]]\n",
      "0.0\n",
      "[ 5.58584993 -1.75746507] [[ 0.7547106  0.7547086]\n",
      " [ 0.7547086  0.7547106]]\n",
      "0.0\n",
      "[-1.315655    3.67016301] [[ 11.45897511  11.45897311]\n",
      " [ 11.45897311  11.45897511]]\n",
      "5.3791346458e-311\n",
      "[ 1.10261271 -0.7900871 ] [[ 23.60281055  23.60280855]\n",
      " [ 23.60280855  23.60281055]]\n",
      "0.0\n",
      "[ 5.58584993 -1.75746507] [[ 0.7547106  0.7547086]\n",
      " [ 0.7547086  0.7547106]]\n",
      "0.0\n",
      "[-1.315655    3.67016301] [[ 11.45897511  11.45897311]\n",
      " [ 11.45897311  11.45897511]]\n",
      "0.0\n",
      "[ 1.10261271 -0.7900871 ] [[ 23.60281055  23.60280855]\n",
      " [ 23.60280855  23.60281055]]\n",
      "0.0\n",
      "[ 5.58584993 -1.75746507] [[ 0.7547106  0.7547086]\n",
      " [ 0.7547086  0.7547106]]\n",
      "0.0\n",
      "[-1.315655    3.67016301] [[ 11.45897511  11.45897311]\n",
      " [ 11.45897311  11.45897511]]\n",
      "0.0\n",
      "[ 1.10261271 -0.7900871 ] [[ 23.60281055  23.60280855]\n",
      " [ 23.60280855  23.60281055]]\n",
      "0.0\n",
      "[ 5.58584993 -1.75746507] [[ 0.7547106  0.7547086]\n",
      " [ 0.7547086  0.7547106]]\n",
      "0.0\n",
      "[-1.315655    3.67016301] [[ 11.45897511  11.45897311]\n",
      " [ 11.45897311  11.45897511]]\n",
      "0.0\n",
      "[ 1.10261271 -0.7900871 ] [[ 23.60281055  23.60280855]\n",
      " [ 23.60280855  23.60281055]]\n",
      "0.0\n",
      "[ 5.58584993 -1.75746507] [[ 0.7547106  0.7547086]\n",
      " [ 0.7547086  0.7547106]]\n",
      "0.0\n",
      "[-1.315655    3.67016301] [[ 11.45897511  11.45897311]\n",
      " [ 11.45897311  11.45897511]]\n",
      "0.0\n",
      "[ 1.10261271 -0.7900871 ] [[ 23.60281055  23.60280855]\n",
      " [ 23.60280855  23.60281055]]\n",
      "0.0\n",
      "[ 5.58584993 -1.75746507] [[ 0.7547106  0.7547086]\n",
      " [ 0.7547086  0.7547106]]\n",
      "0.0\n",
      "[-1.315655    3.67016301] [[ 11.45897511  11.45897311]\n",
      " [ 11.45897311  11.45897511]]\n",
      "0.0\n",
      "[ 1.10261271 -0.7900871 ] [[ 23.60281055  23.60280855]\n",
      " [ 23.60280855  23.60281055]]\n",
      "0.0\n",
      "[ 5.58584993 -1.75746507] [[ 0.7547106  0.7547086]\n",
      " [ 0.7547086  0.7547106]]\n",
      "0.0\n",
      "[-1.315655    3.67016301] [[ 11.45897511  11.45897311]\n",
      " [ 11.45897311  11.45897511]]\n",
      "0.0\n",
      "[ 1.10261271 -0.7900871 ] [[ 23.60281055  23.60280855]\n",
      " [ 23.60280855  23.60281055]]\n",
      "0.0\n",
      "[ 5.58584993 -1.75746507] [[ 0.7547106  0.7547086]\n",
      " [ 0.7547086  0.7547106]]\n",
      "0.0\n",
      "[-1.315655    3.67016301] [[ 11.45897511  11.45897311]\n",
      " [ 11.45897311  11.45897511]]\n",
      "0.0\n",
      "[ 1.10261271 -0.7900871 ] [[ 23.60281055  23.60280855]\n",
      " [ 23.60280855  23.60281055]]\n",
      "0.0\n",
      "[ 5.58584993 -1.75746507] [[ 0.7547106  0.7547086]\n",
      " [ 0.7547086  0.7547106]]\n",
      "0.0\n",
      "[-1.315655    3.67016301] [[ 11.45897511  11.45897311]\n",
      " [ 11.45897311  11.45897511]]\n",
      "0.0\n",
      "[ 1.10261271 -0.7900871 ] [[ 23.60281055  23.60280855]\n",
      " [ 23.60280855  23.60281055]]\n",
      "0.0\n",
      "[ 5.58584993 -1.75746507] [[ 0.7547106  0.7547086]\n",
      " [ 0.7547086  0.7547106]]\n",
      "0.0\n",
      "[-1.315655    3.67016301] [[ 11.45897511  11.45897311]\n",
      " [ 11.45897311  11.45897511]]\n",
      "0.0\n",
      "[ 1.10261271 -0.7900871 ] [[ 23.60281055  23.60280855]\n",
      " [ 23.60280855  23.60281055]]\n",
      "0.0\n",
      "[ 5.58584993 -1.75746507] [[ 0.7547106  0.7547086]\n",
      " [ 0.7547086  0.7547106]]\n",
      "0.0\n",
      "[-1.315655    3.67016301] [[ 11.45897511  11.45897311]\n",
      " [ 11.45897311  11.45897511]]\n",
      "0.0\n",
      "[ 1.10261271 -0.7900871 ] [[ 23.60281055  23.60280855]\n",
      " [ 23.60280855  23.60281055]]\n",
      "0.0\n",
      "[ 5.58584993 -1.75746507] [[ 0.7547106  0.7547086]\n",
      " [ 0.7547086  0.7547106]]\n",
      "0.0\n",
      "[-1.315655    3.67016301] [[ 11.45897511  11.45897311]\n",
      " [ 11.45897311  11.45897511]]\n",
      "0.0\n",
      "[ 1.10261271 -0.7900871 ] [[ 23.60281055  23.60280855]\n",
      " [ 23.60280855  23.60281055]]\n",
      "0.0\n",
      "[ 5.58584993 -1.75746507] [[ 0.7547106  0.7547086]\n",
      " [ 0.7547086  0.7547106]]\n",
      "0.0\n",
      "[-1.315655    3.67016301] [[ 11.45897511  11.45897311]\n",
      " [ 11.45897311  11.45897511]]\n",
      "0.0\n",
      "[ 1.10261271 -0.7900871 ] [[ 23.60281055  23.60280855]\n",
      " [ 23.60280855  23.60281055]]\n",
      "0.0\n",
      "[ 5.58584993 -1.75746507] [[ 0.7547106  0.7547086]\n",
      " [ 0.7547086  0.7547106]]\n",
      "0.0\n",
      "[-1.315655    3.67016301] [[ 11.45897511  11.45897311]\n",
      " [ 11.45897311  11.45897511]]\n",
      "0.0\n",
      "[ 1.10261271 -0.7900871 ] [[ 23.60281055  23.60280855]\n",
      " [ 23.60280855  23.60281055]]\n",
      "0.0\n",
      "[ 5.58584993 -1.75746507] [[ 0.7547106  0.7547086]\n",
      " [ 0.7547086  0.7547106]]\n",
      "0.0\n",
      "[-1.315655    3.67016301] [[ 11.45897511  11.45897311]\n",
      " [ 11.45897311  11.45897511]]\n",
      "0.0\n",
      "[ 1.10261271 -0.7900871 ] [[ 23.60281055  23.60280855]\n",
      " [ 23.60280855  23.60281055]]\n",
      "0.0\n",
      "[ 5.58584993 -1.75746507] [[ 0.7547106  0.7547086]\n",
      " [ 0.7547086  0.7547106]]\n",
      "0.0\n",
      "[-1.315655    3.67016301] [[ 11.45897511  11.45897311]\n",
      " [ 11.45897311  11.45897511]]\n",
      "0.0\n",
      "[ 1.10261271 -0.7900871 ] [[ 23.60281055  23.60280855]\n",
      " [ 23.60280855  23.60281055]]\n",
      "0.0\n",
      "[ 5.58584993 -1.75746507] [[ 0.7547106  0.7547086]\n",
      " [ 0.7547086  0.7547106]]\n",
      "0.0\n",
      "[-1.315655    3.67016301] [[ 11.45897511  11.45897311]\n",
      " [ 11.45897311  11.45897511]]\n",
      "1.77868291353e-113\n",
      "[ 1.10261271 -0.7900871 ] [[ 23.60281055  23.60280855]\n",
      " [ 23.60280855  23.60281055]]\n",
      "0.0\n",
      "[ 5.58584993 -1.75746507] [[ 0.7547106  0.7547086]\n",
      " [ 0.7547086  0.7547106]]\n",
      "0.0\n",
      "[-1.315655    3.67016301] [[ 11.45897511  11.45897311]\n",
      " [ 11.45897311  11.45897511]]\n",
      "0.0\n",
      "[ 1.10261271 -0.7900871 ] [[ 23.60281055  23.60280855]\n",
      " [ 23.60280855  23.60281055]]\n",
      "0.0\n",
      "[ 5.58584993 -1.75746507] [[ 0.7547106  0.7547086]\n",
      " [ 0.7547086  0.7547106]]\n",
      "0.0\n",
      "[-1.315655    3.67016301] [[ 11.45897511  11.45897311]\n",
      " [ 11.45897311  11.45897511]]\n",
      "0.0\n",
      "[ 1.10261271 -0.7900871 ] [[ 23.60281055  23.60280855]\n",
      " [ 23.60280855  23.60281055]]\n",
      "0.0\n",
      "[ 5.58584993 -1.75746507] [[ 0.7547106  0.7547086]\n",
      " [ 0.7547086  0.7547106]]\n",
      "0.0\n",
      "[-1.315655    3.67016301] [[ 11.45897511  11.45897311]\n",
      " [ 11.45897311  11.45897511]]\n",
      "0.0\n",
      "[ 1.10261271 -0.7900871 ] [[ 23.60281055  23.60280855]\n",
      " [ 23.60280855  23.60281055]]\n",
      "0.0\n",
      "[ 5.58584993 -1.75746507] [[ 0.7547106  0.7547086]\n",
      " [ 0.7547086  0.7547106]]\n",
      "0.0\n",
      "[-1.315655    3.67016301] [[ 11.45897511  11.45897311]\n",
      " [ 11.45897311  11.45897511]]\n",
      "0.0\n",
      "[ 1.10261271 -0.7900871 ] [[ 23.60281055  23.60280855]\n",
      " [ 23.60280855  23.60281055]]\n",
      "0.0\n",
      "[ 5.58584993 -1.75746507] [[ 0.7547106  0.7547086]\n",
      " [ 0.7547086  0.7547106]]\n",
      "0.0\n",
      "[-1.315655    3.67016301] [[ 11.45897511  11.45897311]\n",
      " [ 11.45897311  11.45897511]]\n",
      "0.0\n",
      "[ 1.10261271 -0.7900871 ] [[ 23.60281055  23.60280855]\n",
      " [ 23.60280855  23.60281055]]\n",
      "0.0\n",
      "[ 5.58584993 -1.75746507] [[ 0.7547106  0.7547086]\n",
      " [ 0.7547086  0.7547106]]\n",
      "0.0\n",
      "[-1.315655    3.67016301] [[ 11.45897511  11.45897311]\n",
      " [ 11.45897311  11.45897511]]\n",
      "0.0\n",
      "[ 1.10261271 -0.7900871 ] [[ 23.60281055  23.60280855]\n",
      " [ 23.60280855  23.60281055]]\n",
      "0.0\n",
      "[ 5.58584993 -1.75746507] [[ 0.7547106  0.7547086]\n",
      " [ 0.7547086  0.7547106]]\n",
      "0.0\n",
      "[-1.315655    3.67016301] [[ 11.45897511  11.45897311]\n",
      " [ 11.45897311  11.45897511]]\n",
      "0.0\n",
      "[ 1.10261271 -0.7900871 ] [[ 23.60281055  23.60280855]\n",
      " [ 23.60280855  23.60281055]]\n",
      "0.0\n",
      "[ 5.58584993 -1.75746507] [[ 0.7547106  0.7547086]\n",
      " [ 0.7547086  0.7547106]]\n",
      "0.0\n",
      "[-1.315655    3.67016301] [[ 11.45897511  11.45897311]\n",
      " [ 11.45897311  11.45897511]]\n",
      "0.0\n",
      "[ 1.10261271 -0.7900871 ] [[ 23.60281055  23.60280855]\n",
      " [ 23.60280855  23.60281055]]\n",
      "0.0\n",
      "[ 5.58584993 -1.75746507] [[ 0.7547106  0.7547086]\n",
      " [ 0.7547086  0.7547106]]\n",
      "0.0\n",
      "[-1.315655    3.67016301] [[ 11.45897511  11.45897311]\n",
      " [ 11.45897311  11.45897511]]\n",
      "0.0\n",
      "[ 1.10261271 -0.7900871 ] [[ 23.60281055  23.60280855]\n",
      " [ 23.60280855  23.60281055]]\n",
      "0.0\n",
      "[ 5.58584993 -1.75746507] [[ 0.7547106  0.7547086]\n",
      " [ 0.7547086  0.7547106]]\n",
      "0.0\n",
      "[-1.315655    3.67016301] [[ 11.45897511  11.45897311]\n",
      " [ 11.45897311  11.45897511]]\n",
      "0.0\n",
      "[ 1.10261271 -0.7900871 ] [[ 23.60281055  23.60280855]\n",
      " [ 23.60280855  23.60281055]]\n",
      "0.0\n",
      "[ 5.58584993 -1.75746507] [[ 0.7547106  0.7547086]\n",
      " [ 0.7547086  0.7547106]]\n",
      "0.0\n",
      "[-1.315655    3.67016301] [[ 11.45897511  11.45897311]\n",
      " [ 11.45897311  11.45897511]]\n",
      "0.0\n",
      "[ 1.10261271 -0.7900871 ] [[ 23.60281055  23.60280855]\n",
      " [ 23.60280855  23.60281055]]\n",
      "0.0\n",
      "[ 5.58584993 -1.75746507] [[ 0.7547106  0.7547086]\n",
      " [ 0.7547086  0.7547106]]\n",
      "0.0\n",
      "[-1.315655    3.67016301] [[ 11.45897511  11.45897311]\n",
      " [ 11.45897311  11.45897511]]\n",
      "0.0\n",
      "[ 1.10261271 -0.7900871 ] [[ 23.60281055  23.60280855]\n",
      " [ 23.60280855  23.60281055]]\n",
      "0.0\n",
      "[ 5.58584993 -1.75746507] [[ 0.7547106  0.7547086]\n",
      " [ 0.7547086  0.7547106]]\n",
      "0.0\n",
      "[-1.315655    3.67016301] [[ 11.45897511  11.45897311]\n",
      " [ 11.45897311  11.45897511]]\n",
      "0.0\n",
      "[ 1.10261271 -0.7900871 ] [[ 23.60281055  23.60280855]\n",
      " [ 23.60280855  23.60281055]]\n",
      "0.0\n",
      "[ 5.58584993 -1.75746507] [[ 0.7547106  0.7547086]\n",
      " [ 0.7547086  0.7547106]]\n",
      "0.0\n",
      "[-1.315655    3.67016301] [[ 11.45897511  11.45897311]\n",
      " [ 11.45897311  11.45897511]]\n",
      "0.0\n",
      "[ 1.10261271 -0.7900871 ] [[ 23.60281055  23.60280855]\n",
      " [ 23.60280855  23.60281055]]\n",
      "0.0\n",
      "[ 5.58584993 -1.75746507] [[ 0.7547106  0.7547086]\n",
      " [ 0.7547086  0.7547106]]\n",
      "0.0\n",
      "[-1.315655    3.67016301] [[ 11.45897511  11.45897311]\n",
      " [ 11.45897311  11.45897511]]\n",
      "0.0\n",
      "[ 1.10261271 -0.7900871 ] [[ 23.60281055  23.60280855]\n",
      " [ 23.60280855  23.60281055]]\n",
      "0.0\n",
      "[ 5.58584993 -1.75746507] [[ 0.7547106  0.7547086]\n",
      " [ 0.7547086  0.7547106]]\n",
      "0.0\n",
      "[-1.315655    3.67016301] [[ 11.45897511  11.45897311]\n",
      " [ 11.45897311  11.45897511]]\n",
      "0.0\n",
      "[ 1.10261271 -0.7900871 ] [[ 23.60281055  23.60280855]\n",
      " [ 23.60280855  23.60281055]]\n",
      "0.0\n",
      "[ 5.58584993 -1.75746507] [[ 0.7547106  0.7547086]\n",
      " [ 0.7547086  0.7547106]]\n",
      "0.0\n",
      "[-1.315655    3.67016301] [[ 11.45897511  11.45897311]\n",
      " [ 11.45897311  11.45897511]]\n",
      "0.0925548253336\n",
      "[ 1.10261271 -0.7900871 ] [[ 23.60281055  23.60280855]\n",
      " [ 23.60280855  23.60281055]]\n",
      "0.0\n",
      "[ 5.58584993 -1.75746507] [[ 0.7547106  0.7547086]\n",
      " [ 0.7547086  0.7547106]]\n",
      "0.0\n",
      "[-1.315655    3.67016301] [[ 11.45897511  11.45897311]\n",
      " [ 11.45897311  11.45897511]]\n",
      "0.0\n",
      "[ 1.10261271 -0.7900871 ] [[ 23.60281055  23.60280855]\n",
      " [ 23.60280855  23.60281055]]\n",
      "0.0\n",
      "[ 5.58584993 -1.75746507] [[ 0.7547106  0.7547086]\n",
      " [ 0.7547086  0.7547106]]\n",
      "0.0\n",
      "[-1.315655    3.67016301] [[ 11.45897511  11.45897311]\n",
      " [ 11.45897311  11.45897511]]\n",
      "0.0\n",
      "[ 1.10261271 -0.7900871 ] [[ 23.60281055  23.60280855]\n",
      " [ 23.60280855  23.60281055]]\n",
      "0.0\n",
      "[ 5.58584993 -1.75746507] [[ 0.7547106  0.7547086]\n",
      " [ 0.7547086  0.7547106]]\n",
      "0.0\n",
      "[-1.315655    3.67016301] [[ 11.45897511  11.45897311]\n",
      " [ 11.45897311  11.45897511]]\n",
      "0.0\n",
      "[ 1.10261271 -0.7900871 ] [[ 23.60281055  23.60280855]\n",
      " [ 23.60280855  23.60281055]]\n",
      "0.0\n",
      "[ 5.58584993 -1.75746507] [[ 0.7547106  0.7547086]\n",
      " [ 0.7547086  0.7547106]]\n",
      "0.0\n",
      "[-1.315655    3.67016301] [[ 11.45897511  11.45897311]\n",
      " [ 11.45897311  11.45897511]]\n",
      "0.0\n",
      "[ 1.10261271 -0.7900871 ] [[ 23.60281055  23.60280855]\n",
      " [ 23.60280855  23.60281055]]\n",
      "0.0\n",
      "[ 5.58584993 -1.75746507] [[ 0.7547106  0.7547086]\n",
      " [ 0.7547086  0.7547106]]\n",
      "0.0\n",
      "[-1.315655    3.67016301] [[ 11.45897511  11.45897311]\n",
      " [ 11.45897311  11.45897511]]\n",
      "0.0\n",
      "[ 1.10261271 -0.7900871 ] [[ 23.60281055  23.60280855]\n",
      " [ 23.60280855  23.60281055]]\n",
      "0.0\n",
      "[ 5.58584993 -1.75746507] [[ 0.7547106  0.7547086]\n",
      " [ 0.7547086  0.7547106]]\n",
      "0.0\n",
      "[-1.315655    3.67016301] [[ 11.45897511  11.45897311]\n",
      " [ 11.45897311  11.45897511]]\n",
      "0.0\n",
      "[ 1.10261271 -0.7900871 ] [[ 23.60281055  23.60280855]\n",
      " [ 23.60280855  23.60281055]]\n",
      "0.0\n",
      "[ 5.58584993 -1.75746507] [[ 0.7547106  0.7547086]\n",
      " [ 0.7547086  0.7547106]]\n",
      "0.0\n",
      "[-1.315655    3.67016301] [[ 11.45897511  11.45897311]\n",
      " [ 11.45897311  11.45897511]]\n",
      "0.0\n",
      "[ 1.10261271 -0.7900871 ] [[ 23.60281055  23.60280855]\n",
      " [ 23.60280855  23.60281055]]\n",
      "0.0\n",
      "[ 5.58584993 -1.75746507] [[ 0.7547106  0.7547086]\n",
      " [ 0.7547086  0.7547106]]\n",
      "0.0\n",
      "[-1.315655    3.67016301] [[ 11.45897511  11.45897311]\n",
      " [ 11.45897311  11.45897511]]\n",
      "0.0\n",
      "[ 1.10261271 -0.7900871 ] [[ 23.60281055  23.60280855]\n",
      " [ 23.60280855  23.60281055]]\n",
      "0.0\n",
      "[ 5.58584993 -1.75746507] [[ 0.7547106  0.7547086]\n",
      " [ 0.7547086  0.7547106]]\n",
      "0.0\n",
      "[-1.315655    3.67016301] [[ 11.45897511  11.45897311]\n",
      " [ 11.45897311  11.45897511]]\n",
      "0.0\n",
      "[ 1.10261271 -0.7900871 ] [[ 23.60281055  23.60280855]\n",
      " [ 23.60280855  23.60281055]]\n",
      "0.0\n",
      "[ 5.58584993 -1.75746507] [[ 0.7547106  0.7547086]\n",
      " [ 0.7547086  0.7547106]]\n",
      "0.0\n",
      "[-1.315655    3.67016301] [[ 11.45897511  11.45897311]\n",
      " [ 11.45897311  11.45897511]]\n",
      "0.0\n",
      "[ 1.10261271 -0.7900871 ] [[ 23.60281055  23.60280855]\n",
      " [ 23.60280855  23.60281055]]\n",
      "0.0\n",
      "[ 5.58584993 -1.75746507] [[ 0.7547106  0.7547086]\n",
      " [ 0.7547086  0.7547106]]\n",
      "0.0\n",
      "[-1.315655    3.67016301] [[ 11.45897511  11.45897311]\n",
      " [ 11.45897311  11.45897511]]\n",
      "0.0\n",
      "[ 1.10261271 -0.7900871 ] [[ 23.60281055  23.60280855]\n",
      " [ 23.60280855  23.60281055]]\n",
      "0.0\n",
      "[ 5.58584993 -1.75746507] [[ 0.7547106  0.7547086]\n",
      " [ 0.7547086  0.7547106]]\n",
      "0.0\n",
      "[-1.315655    3.67016301] [[ 11.45897511  11.45897311]\n",
      " [ 11.45897311  11.45897511]]\n",
      "0.0\n",
      "[ 1.10261271 -0.7900871 ] [[ 23.60281055  23.60280855]\n",
      " [ 23.60280855  23.60281055]]\n",
      "0.0\n",
      "[ 5.58584993 -1.75746507] [[ 0.7547106  0.7547086]\n",
      " [ 0.7547086  0.7547106]]\n",
      "0.0\n",
      "[-1.315655    3.67016301] [[ 11.45897511  11.45897311]\n",
      " [ 11.45897311  11.45897511]]\n",
      "0.0\n",
      "[ 1.10261271 -0.7900871 ] [[ 23.60281055  23.60280855]\n",
      " [ 23.60280855  23.60281055]]\n",
      "0.0\n",
      "[ 5.58584993 -1.75746507] [[ 0.7547106  0.7547086]\n",
      " [ 0.7547086  0.7547106]]\n",
      "0.0\n",
      "[-1.315655    3.67016301] [[ 11.45897511  11.45897311]\n",
      " [ 11.45897311  11.45897511]]\n",
      "0.0\n",
      "[ 1.10261271 -0.7900871 ] [[ 23.60281055  23.60280855]\n",
      " [ 23.60280855  23.60281055]]\n",
      "0.0\n",
      "[ 5.58584993 -1.75746507] [[ 0.7547106  0.7547086]\n",
      " [ 0.7547086  0.7547106]]\n",
      "0.0\n",
      "[-1.315655    3.67016301] [[ 11.45897511  11.45897311]\n",
      " [ 11.45897311  11.45897511]]\n",
      "0.0\n",
      "[ 1.10261271 -0.7900871 ] [[ 23.60281055  23.60280855]\n",
      " [ 23.60280855  23.60281055]]\n",
      "0.0\n",
      "[ 5.58584993 -1.75746507] [[ 0.7547106  0.7547086]\n",
      " [ 0.7547086  0.7547106]]\n",
      "0.0\n",
      "[-1.315655    3.67016301] [[ 11.45897511  11.45897311]\n",
      " [ 11.45897311  11.45897511]]\n",
      "0.0\n",
      "[ 1.10261271 -0.7900871 ] [[ 23.60281055  23.60280855]\n",
      " [ 23.60280855  23.60281055]]\n",
      "0.0\n",
      "[ 5.58584993 -1.75746507] [[ 0.7547106  0.7547086]\n",
      " [ 0.7547086  0.7547106]]\n",
      "0.0\n",
      "[-1.315655    3.67016301] [[ 11.45897511  11.45897311]\n",
      " [ 11.45897311  11.45897511]]\n",
      "0.0\n",
      "[ 1.10261271 -0.7900871 ] [[ 23.60281055  23.60280855]\n",
      " [ 23.60280855  23.60281055]]\n",
      "0.0\n",
      "[ 5.58584993 -1.75746507] [[ 0.7547106  0.7547086]\n",
      " [ 0.7547086  0.7547106]]\n",
      "0.0\n",
      "[-1.315655    3.67016301] [[ 11.45897511  11.45897311]\n",
      " [ 11.45897311  11.45897511]]\n",
      "6.75156257759e-136\n",
      "[ 1.10261271 -0.7900871 ] [[ 23.60281055  23.60280855]\n",
      " [ 23.60280855  23.60281055]]\n",
      "0.0\n",
      "[ 5.58584993 -1.75746507] [[ 0.7547106  0.7547086]\n",
      " [ 0.7547086  0.7547106]]\n",
      "0.0\n",
      "[-1.315655    3.67016301] [[ 11.45897511  11.45897311]\n",
      " [ 11.45897311  11.45897511]]\n",
      "0.0\n",
      "[ 1.10261271 -0.7900871 ] [[ 23.60281055  23.60280855]\n",
      " [ 23.60280855  23.60281055]]\n",
      "0.0\n",
      "[ 5.58584993 -1.75746507] [[ 0.7547106  0.7547086]\n",
      " [ 0.7547086  0.7547106]]\n",
      "0.0\n",
      "[-1.315655    3.67016301] [[ 11.45897511  11.45897311]\n",
      " [ 11.45897311  11.45897511]]\n",
      "0.0\n",
      "[ 1.10261271 -0.7900871 ] [[ 23.60281055  23.60280855]\n",
      " [ 23.60280855  23.60281055]]\n",
      "0.0\n",
      "[ 5.58584993 -1.75746507] [[ 0.7547106  0.7547086]\n",
      " [ 0.7547086  0.7547106]]\n",
      "0.0\n",
      "[-1.315655    3.67016301] [[ 11.45897511  11.45897311]\n",
      " [ 11.45897311  11.45897511]]\n",
      "0.0\n",
      "[ 1.10261271 -0.7900871 ] [[ 23.60281055  23.60280855]\n",
      " [ 23.60280855  23.60281055]]\n",
      "0.0\n",
      "[ 5.58584993 -1.75746507] [[ 0.7547106  0.7547086]\n",
      " [ 0.7547086  0.7547106]]\n",
      "0.0\n",
      "[-1.315655    3.67016301] [[ 11.45897511  11.45897311]\n",
      " [ 11.45897311  11.45897511]]\n",
      "0.0\n",
      "[ 1.10261271 -0.7900871 ] [[ 23.60281055  23.60280855]\n",
      " [ 23.60280855  23.60281055]]\n",
      "0.0\n",
      "[ 5.58584993 -1.75746507] [[ 0.7547106  0.7547086]\n",
      " [ 0.7547086  0.7547106]]\n",
      "0.0\n",
      "[-1.315655    3.67016301] [[ 11.45897511  11.45897311]\n",
      " [ 11.45897311  11.45897511]]\n",
      "0.0\n",
      "[ 1.10261271 -0.7900871 ] [[ 23.60281055  23.60280855]\n",
      " [ 23.60280855  23.60281055]]\n",
      "0.0\n",
      "[ 5.58584993 -1.75746507] [[ 0.7547106  0.7547086]\n",
      " [ 0.7547086  0.7547106]]\n",
      "0.0\n",
      "[-1.315655    3.67016301] [[ 11.45897511  11.45897311]\n",
      " [ 11.45897311  11.45897511]]\n",
      "0.0\n",
      "[ 1.10261271 -0.7900871 ] [[ 23.60281055  23.60280855]\n",
      " [ 23.60280855  23.60281055]]\n",
      "0.0\n",
      "[ 5.58584993 -1.75746507] [[ 0.7547106  0.7547086]\n",
      " [ 0.7547086  0.7547106]]\n",
      "0.0\n",
      "[-1.315655    3.67016301] [[ 11.45897511  11.45897311]\n",
      " [ 11.45897311  11.45897511]]\n",
      "0.0\n",
      "[ 1.10261271 -0.7900871 ] [[ 23.60281055  23.60280855]\n",
      " [ 23.60280855  23.60281055]]\n",
      "0.0\n",
      "[ 5.58584993 -1.75746507] [[ 0.7547106  0.7547086]\n",
      " [ 0.7547086  0.7547106]]\n",
      "0.0\n",
      "[-1.315655    3.67016301] [[ 11.45897511  11.45897311]\n",
      " [ 11.45897311  11.45897511]]\n",
      "0.0\n",
      "[ 1.10261271 -0.7900871 ] [[ 23.60281055  23.60280855]\n",
      " [ 23.60280855  23.60281055]]\n",
      "0.0\n",
      "[ 5.58584993 -1.75746507] [[ 0.7547106  0.7547086]\n",
      " [ 0.7547086  0.7547106]]\n",
      "0.0\n",
      "[-1.315655    3.67016301] [[ 11.45897511  11.45897311]\n",
      " [ 11.45897311  11.45897511]]\n",
      "0.0\n",
      "[ 1.10261271 -0.7900871 ] [[ 23.60281055  23.60280855]\n",
      " [ 23.60280855  23.60281055]]\n",
      "0.0\n",
      "[ 5.58584993 -1.75746507] [[ 0.7547106  0.7547086]\n",
      " [ 0.7547086  0.7547106]]\n",
      "0.0\n",
      "[-1.315655    3.67016301] [[ 11.45897511  11.45897311]\n",
      " [ 11.45897311  11.45897511]]\n",
      "0.0\n",
      "[ 1.10261271 -0.7900871 ] [[ 23.60281055  23.60280855]\n",
      " [ 23.60280855  23.60281055]]\n",
      "0.0\n",
      "[ 5.58584993 -1.75746507] [[ 0.7547106  0.7547086]\n",
      " [ 0.7547086  0.7547106]]\n",
      "0.0\n",
      "[-1.315655    3.67016301] [[ 11.45897511  11.45897311]\n",
      " [ 11.45897311  11.45897511]]\n",
      "0.0\n",
      "[ 1.10261271 -0.7900871 ] [[ 23.60281055  23.60280855]\n",
      " [ 23.60280855  23.60281055]]\n",
      "0.0\n",
      "[ 5.58584993 -1.75746507] [[ 0.7547106  0.7547086]\n",
      " [ 0.7547086  0.7547106]]\n",
      "0.0\n",
      "[-1.315655    3.67016301] [[ 11.45897511  11.45897311]\n",
      " [ 11.45897311  11.45897511]]\n",
      "0.0\n",
      "[ 1.10261271 -0.7900871 ] [[ 23.60281055  23.60280855]\n",
      " [ 23.60280855  23.60281055]]\n",
      "0.0\n",
      "[ 5.58584993 -1.75746507] [[ 0.7547106  0.7547086]\n",
      " [ 0.7547086  0.7547106]]\n",
      "0.0\n",
      "[-1.315655    3.67016301] [[ 11.45897511  11.45897311]\n",
      " [ 11.45897311  11.45897511]]\n",
      "0.0\n",
      "[ 1.10261271 -0.7900871 ] [[ 23.60281055  23.60280855]\n",
      " [ 23.60280855  23.60281055]]\n",
      "0.0\n",
      "[ 5.58584993 -1.75746507] [[ 0.7547106  0.7547086]\n",
      " [ 0.7547086  0.7547106]]\n",
      "0.0\n",
      "[-1.315655    3.67016301] [[ 11.45897511  11.45897311]\n",
      " [ 11.45897311  11.45897511]]\n",
      "8.0618408975e-44\n",
      "[ 1.10261271 -0.7900871 ] [[ 23.60281055  23.60280855]\n",
      " [ 23.60280855  23.60281055]]\n",
      "0.0\n",
      "[ 5.58584993 -1.75746507] [[ 0.7547106  0.7547086]\n",
      " [ 0.7547086  0.7547106]]\n",
      "0.0\n",
      "[-1.315655    3.67016301] [[ 11.45897511  11.45897311]\n",
      " [ 11.45897311  11.45897511]]\n",
      "0.0\n",
      "[ 1.10261271 -0.7900871 ] [[ 23.60281055  23.60280855]\n",
      " [ 23.60280855  23.60281055]]\n",
      "0.0\n",
      "[ 5.58584993 -1.75746507] [[ 0.7547106  0.7547086]\n",
      " [ 0.7547086  0.7547106]]\n",
      "0.0\n",
      "[-1.315655    3.67016301] [[ 11.45897511  11.45897311]\n",
      " [ 11.45897311  11.45897511]]\n",
      "0.0\n",
      "[ 1.10261271 -0.7900871 ] [[ 23.60281055  23.60280855]\n",
      " [ 23.60280855  23.60281055]]\n",
      "0.0\n",
      "[ 5.58584993 -1.75746507] [[ 0.7547106  0.7547086]\n",
      " [ 0.7547086  0.7547106]]\n",
      "0.0\n",
      "[-1.315655    3.67016301] [[ 11.45897511  11.45897311]\n",
      " [ 11.45897311  11.45897511]]\n",
      "2.67346073539e-08\n",
      "[ 1.10261271 -0.7900871 ] [[ 23.60281055  23.60280855]\n",
      " [ 23.60280855  23.60281055]]\n",
      "0.0\n",
      "[ 5.58584993 -1.75746507] [[ 0.7547106  0.7547086]\n",
      " [ 0.7547086  0.7547106]]\n",
      "0.0\n",
      "[-1.315655    3.67016301] [[ 11.45897511  11.45897311]\n",
      " [ 11.45897311  11.45897511]]\n",
      "0.0\n",
      "[ 1.10261271 -0.7900871 ] [[ 23.60281055  23.60280855]\n",
      " [ 23.60280855  23.60281055]]\n",
      "0.0\n",
      "[ 5.58584993 -1.75746507] [[ 0.7547106  0.7547086]\n",
      " [ 0.7547086  0.7547106]]\n",
      "0.0\n",
      "[-1.315655    3.67016301] [[ 11.45897511  11.45897311]\n",
      " [ 11.45897311  11.45897511]]\n",
      "0.0\n",
      "[ 1.10261271 -0.7900871 ] [[ 23.60281055  23.60280855]\n",
      " [ 23.60280855  23.60281055]]\n",
      "0.0\n",
      "[ 5.58584993 -1.75746507] [[ 0.7547106  0.7547086]\n",
      " [ 0.7547086  0.7547106]]\n",
      "0.0\n",
      "[-1.315655    3.67016301] [[ 11.45897511  11.45897311]\n",
      " [ 11.45897311  11.45897511]]\n",
      "0.0\n",
      "[ 1.10261271 -0.7900871 ] [[ 23.60281055  23.60280855]\n",
      " [ 23.60280855  23.60281055]]\n",
      "0.0\n",
      "[ 5.58584993 -1.75746507] [[ 0.7547106  0.7547086]\n",
      " [ 0.7547086  0.7547106]]\n",
      "0.0\n",
      "[-1.315655    3.67016301] [[ 11.45897511  11.45897311]\n",
      " [ 11.45897311  11.45897511]]\n",
      "0.0\n",
      "[ 1.10261271 -0.7900871 ] [[ 23.60281055  23.60280855]\n",
      " [ 23.60280855  23.60281055]]\n",
      "0.0\n",
      "[ 5.58584993 -1.75746507] [[ 0.7547106  0.7547086]\n",
      " [ 0.7547086  0.7547106]]\n",
      "0.0\n",
      "[-1.315655    3.67016301] [[ 11.45897511  11.45897311]\n",
      " [ 11.45897311  11.45897511]]\n",
      "0.0\n",
      "[ 1.10261271 -0.7900871 ] [[ 23.60281055  23.60280855]\n",
      " [ 23.60280855  23.60281055]]\n",
      "0.0\n",
      "[ 5.58584993 -1.75746507] [[ 0.7547106  0.7547086]\n",
      " [ 0.7547086  0.7547106]]\n",
      "0.0\n",
      "[-1.315655    3.67016301] [[ 11.45897511  11.45897311]\n",
      " [ 11.45897311  11.45897511]]\n",
      "0.0\n",
      "[ 1.10261271 -0.7900871 ] [[ 23.60281055  23.60280855]\n",
      " [ 23.60280855  23.60281055]]\n",
      "0.0\n",
      "[ 5.58584993 -1.75746507] [[ 0.7547106  0.7547086]\n",
      " [ 0.7547086  0.7547106]]\n",
      "0.0\n",
      "[-1.315655    3.67016301] [[ 11.45897511  11.45897311]\n",
      " [ 11.45897311  11.45897511]]\n",
      "0.0\n",
      "[ 1.10261271 -0.7900871 ] [[ 23.60281055  23.60280855]\n",
      " [ 23.60280855  23.60281055]]\n",
      "0.0\n",
      "[ 5.58584993 -1.75746507] [[ 0.7547106  0.7547086]\n",
      " [ 0.7547086  0.7547106]]\n",
      "0.0\n",
      "[-1.315655    3.67016301] [[ 11.45897511  11.45897311]\n",
      " [ 11.45897311  11.45897511]]\n",
      "0.0\n",
      "[ 1.10261271 -0.7900871 ] [[ 23.60281055  23.60280855]\n",
      " [ 23.60280855  23.60281055]]\n",
      "0.0\n",
      "[ 5.58584993 -1.75746507] [[ 0.7547106  0.7547086]\n",
      " [ 0.7547086  0.7547106]]\n",
      "0.0\n",
      "[-1.315655    3.67016301] [[ 11.45897511  11.45897311]\n",
      " [ 11.45897311  11.45897511]]\n",
      "0.0\n",
      "[ 1.10261271 -0.7900871 ] [[ 23.60281055  23.60280855]\n",
      " [ 23.60280855  23.60281055]]\n",
      "0.0\n",
      "[ 5.58584993 -1.75746507] [[ 0.7547106  0.7547086]\n",
      " [ 0.7547086  0.7547106]]\n",
      "0.0\n",
      "[-1.315655    3.67016301] [[ 11.45897511  11.45897311]\n",
      " [ 11.45897311  11.45897511]]\n",
      "0.0\n",
      "[ 1.10261271 -0.7900871 ] [[ 23.60281055  23.60280855]\n",
      " [ 23.60280855  23.60281055]]\n",
      "0.0\n",
      "[ 5.58584993 -1.75746507] [[ 0.7547106  0.7547086]\n",
      " [ 0.7547086  0.7547106]]\n",
      "0.0\n",
      "[-1.315655    3.67016301] [[ 11.45897511  11.45897311]\n",
      " [ 11.45897311  11.45897511]]\n",
      "0.0\n",
      "[ 1.10261271 -0.7900871 ] [[ 23.60281055  23.60280855]\n",
      " [ 23.60280855  23.60281055]]\n",
      "0.0\n",
      "[ 5.58584993 -1.75746507] [[ 0.7547106  0.7547086]\n",
      " [ 0.7547086  0.7547106]]\n",
      "0.0\n",
      "[-1.315655    3.67016301] [[ 11.45897511  11.45897311]\n",
      " [ 11.45897311  11.45897511]]\n",
      "0.0\n",
      "[ 1.10261271 -0.7900871 ] [[ 23.60281055  23.60280855]\n",
      " [ 23.60280855  23.60281055]]\n",
      "0.0\n",
      "[ 5.58584993 -1.75746507] [[ 0.7547106  0.7547086]\n",
      " [ 0.7547086  0.7547106]]\n",
      "0.0\n",
      "[-1.315655    3.67016301] [[ 11.45897511  11.45897311]\n",
      " [ 11.45897311  11.45897511]]\n",
      "0.0\n",
      "[ 1.10261271 -0.7900871 ] [[ 23.60281055  23.60280855]\n",
      " [ 23.60280855  23.60281055]]\n",
      "0.0\n",
      "[ 5.58584993 -1.75746507] [[ 0.7547106  0.7547086]\n",
      " [ 0.7547086  0.7547106]]\n",
      "0.0\n"
     ]
    },
    {
     "name": "stderr",
     "output_type": "stream",
     "text": [
      "/home/matwilso/code/implementations/numpy/general/gmm.py:90: RuntimeWarning: divide by zero encountered in log\n",
      "  return ll\n"
     ]
    },
    {
     "data": {
      "text/plain": [
       "-inf"
      ]
     },
     "execution_count": 797,
     "metadata": {},
     "output_type": "execute_result"
    }
   ],
   "source": [
    "gmm.fit(data,K)"
   ]
  },
  {
   "cell_type": "code",
   "execution_count": 745,
   "metadata": {},
   "outputs": [],
   "source": [
    "weigh_update, mu_update, Sigma_update = gmm.fit(data, K)"
   ]
  },
  {
   "cell_type": "code",
   "execution_count": 759,
   "metadata": {},
   "outputs": [
    {
     "data": {
      "text/plain": [
       "array([[[ 507.93833192,  507.93833192],\n",
       "        [ 507.93833192,  507.93833192]],\n",
       "\n",
       "       [[  22.41268591,   22.41268591],\n",
       "        [  22.41268591,   22.41268591]],\n",
       "\n",
       "       [[ 307.03835986,  307.03835986],\n",
       "        [ 307.03835986,  307.03835986]]])"
      ]
     },
     "execution_count": 759,
     "metadata": {},
     "output_type": "execute_result"
    }
   ],
   "source": [
    "Sigma_update"
   ]
  },
  {
   "cell_type": "code",
   "execution_count": null,
   "metadata": {},
   "outputs": [],
   "source": [
    "Sigma_update[:, np.arange(D), np.arange(D)] *= n_inv"
   ]
  },
  {
   "cell_type": "code",
   "execution_count": 762,
   "metadata": {},
   "outputs": [
    {
     "data": {
      "text/plain": [
       "array([[[  13.01716615,  507.93833192],\n",
       "        [ 507.93833192,   13.01716615]],\n",
       "\n",
       "       [[   0.64256496,   22.41268591],\n",
       "        [  22.41268591,    0.64256496]],\n",
       "\n",
       "       [[  11.76423063,  307.03835986],\n",
       "        [ 307.03835986,   11.76423063]]])"
      ]
     },
     "execution_count": 762,
     "metadata": {},
     "output_type": "execute_result"
    }
   ],
   "source": [
    "Sigma_update"
   ]
  },
  {
   "cell_type": "code",
   "execution_count": 776,
   "metadata": {},
   "outputs": [
    {
     "data": {
      "text/plain": [
       "(array([ 0.25120354,  0.62518998,  0.12360648]),\n",
       " array([[-1.43813705, -1.84638835],\n",
       "        [ 0.72727811,  3.03063134],\n",
       "        [ 5.61753231, -2.02568624]]),\n",
       " array([[[ 21.55807738,  21.55807738],\n",
       "         [ 21.55807738,  21.55807738]],\n",
       " \n",
       "        [[ 16.84616133,  16.84616133],\n",
       "         [ 16.84616133,  16.84616133]],\n",
       " \n",
       "        [[  0.44177673,   0.44177673],\n",
       "         [  0.44177673,   0.44177673]]]))"
      ]
     },
     "execution_count": 776,
     "metadata": {},
     "output_type": "execute_result"
    }
   ],
   "source": [
    "gmm.fit(data, K)"
   ]
  },
  {
   "cell_type": "code",
   "execution_count": null,
   "metadata": {},
   "outputs": [],
   "source": []
  },
  {
   "cell_type": "code",
   "execution_count": 726,
   "metadata": {},
   "outputs": [
    {
     "data": {
      "text/plain": [
       "(3, 2, 2)"
      ]
     },
     "execution_count": 726,
     "metadata": {},
     "output_type": "execute_result"
    }
   ],
   "source": [
    "Sigma_update.shape"
   ]
  },
  {
   "cell_type": "code",
   "execution_count": 685,
   "metadata": {},
   "outputs": [],
   "source": [
    "weight_update, mu_update, n_inv = gmm.fit(data, 3)"
   ]
  },
  {
   "cell_type": "code",
   "execution_count": 686,
   "metadata": {},
   "outputs": [
    {
     "data": {
      "text/plain": [
       "(3, 100)"
      ]
     },
     "execution_count": 686,
     "metadata": {},
     "output_type": "execute_result"
    }
   ],
   "source": [
    "np.dot(gamma.T, np.dot(diff, diff.T)).shape"
   ]
  },
  {
   "cell_type": "code",
   "execution_count": 687,
   "metadata": {},
   "outputs": [
    {
     "data": {
      "text/plain": [
       "array([[ 0.02562745],\n",
       "       [ 0.0286697 ],\n",
       "       [ 0.03831518]])"
      ]
     },
     "execution_count": 687,
     "metadata": {},
     "output_type": "execute_result"
    }
   ],
   "source": [
    "n_inv"
   ]
  },
  {
   "cell_type": "code",
   "execution_count": 688,
   "metadata": {},
   "outputs": [
    {
     "data": {
      "text/plain": [
       "(100, 100)"
      ]
     },
     "execution_count": 688,
     "metadata": {},
     "output_type": "execute_result"
    }
   ],
   "source": [
    "np.dot(diff, diff.T).shape"
   ]
  },
  {
   "cell_type": "code",
   "execution_count": 692,
   "metadata": {},
   "outputs": [],
   "source": [
    "Sigma_update[j, :, :] = (n_inv * np.dot(gamma.T, np.dot(diff, diff.T))).shape"
   ]
  },
  {
   "cell_type": "code",
   "execution_count": 707,
   "metadata": {},
   "outputs": [
    {
     "data": {
      "text/plain": [
       "(100, 2)"
      ]
     },
     "execution_count": 707,
     "metadata": {},
     "output_type": "execute_result"
    }
   ],
   "source": [
    "data.shape"
   ]
  },
  {
   "cell_type": "code",
   "execution_count": 708,
   "metadata": {},
   "outputs": [
    {
     "data": {
      "text/plain": [
       "(2,)"
      ]
     },
     "execution_count": 708,
     "metadata": {},
     "output_type": "execute_result"
    }
   ],
   "source": [
    "mean.shape"
   ]
  },
  {
   "cell_type": "code",
   "execution_count": 700,
   "metadata": {},
   "outputs": [
    {
     "data": {
      "text/plain": [
       "(100, 2)"
      ]
     },
     "execution_count": 700,
     "metadata": {},
     "output_type": "execute_result"
    }
   ],
   "source": [
    "diff.shape"
   ]
  },
  {
   "cell_type": "code",
   "execution_count": 701,
   "metadata": {},
   "outputs": [
    {
     "data": {
      "text/plain": [
       "(100, 3)"
      ]
     },
     "execution_count": 701,
     "metadata": {},
     "output_type": "execute_result"
    }
   ],
   "source": [
    "gamma.shape"
   ]
  },
  {
   "cell_type": "code",
   "execution_count": null,
   "metadata": {},
   "outputs": [],
   "source": [
    "Sigma_update[j, :]"
   ]
  },
  {
   "cell_type": "code",
   "execution_count": 713,
   "metadata": {},
   "outputs": [
    {
     "data": {
      "text/plain": [
       "array([[  -9.65482079,   24.62989168],\n",
       "       [-205.20122489,  176.85873824],\n",
       "       [-213.86815263,  -18.35245305]])"
      ]
     },
     "execution_count": 713,
     "metadata": {},
     "output_type": "execute_result"
    }
   ],
   "source": [
    "np.dot(gamma.T, diff)"
   ]
  },
  {
   "cell_type": "code",
   "execution_count": 699,
   "metadata": {},
   "outputs": [
    {
     "data": {
      "text/plain": [
       "array([[ 0.,  0.],\n",
       "       [ 0.,  0.]])"
      ]
     },
     "execution_count": 699,
     "metadata": {},
     "output_type": "execute_result"
    }
   ],
   "source": [
    "Sigma_update[0, :, :]"
   ]
  },
  {
   "cell_type": "code",
   "execution_count": 703,
   "metadata": {},
   "outputs": [
    {
     "name": "stdout",
     "output_type": "stream",
     "text": [
      "(3, 100)\n"
     ]
    },
    {
     "ename": "ValueError",
     "evalue": "could not broadcast input array from shape (3,100) into shape (2,2)",
     "output_type": "error",
     "traceback": [
      "\u001b[0;31m---------------------------------------------------------------------------\u001b[0m",
      "\u001b[0;31mValueError\u001b[0m                                Traceback (most recent call last)",
      "\u001b[0;32m<ipython-input-703-d59b7dfbec11>\u001b[0m in \u001b[0;36m<module>\u001b[0;34m()\u001b[0m\n\u001b[1;32m      3\u001b[0m     \u001b[0mdiff\u001b[0m \u001b[0;34m=\u001b[0m \u001b[0mdata\u001b[0m \u001b[0;34m-\u001b[0m \u001b[0mmu_update\u001b[0m\u001b[0;34m[\u001b[0m\u001b[0mj\u001b[0m\u001b[0;34m]\u001b[0m\u001b[0;34m\u001b[0m\u001b[0m\n\u001b[1;32m      4\u001b[0m     \u001b[0mprint\u001b[0m\u001b[0;34m(\u001b[0m\u001b[0;34m(\u001b[0m\u001b[0mn_inv\u001b[0m \u001b[0;34m*\u001b[0m \u001b[0mnp\u001b[0m\u001b[0;34m.\u001b[0m\u001b[0mdot\u001b[0m\u001b[0;34m(\u001b[0m\u001b[0mgamma\u001b[0m\u001b[0;34m.\u001b[0m\u001b[0mT\u001b[0m\u001b[0;34m,\u001b[0m \u001b[0mnp\u001b[0m\u001b[0;34m.\u001b[0m\u001b[0mdot\u001b[0m\u001b[0;34m(\u001b[0m\u001b[0mdiff\u001b[0m\u001b[0;34m,\u001b[0m \u001b[0mdiff\u001b[0m\u001b[0;34m.\u001b[0m\u001b[0mT\u001b[0m\u001b[0;34m)\u001b[0m\u001b[0;34m)\u001b[0m\u001b[0;34m)\u001b[0m\u001b[0;34m.\u001b[0m\u001b[0mshape\u001b[0m\u001b[0;34m)\u001b[0m\u001b[0;34m\u001b[0m\u001b[0m\n\u001b[0;32m----> 5\u001b[0;31m     \u001b[0mSigma_update\u001b[0m\u001b[0;34m[\u001b[0m\u001b[0mj\u001b[0m\u001b[0;34m,\u001b[0m \u001b[0;34m:\u001b[0m\u001b[0;34m,\u001b[0m \u001b[0;34m:\u001b[0m\u001b[0;34m]\u001b[0m \u001b[0;34m=\u001b[0m \u001b[0mnp\u001b[0m\u001b[0;34m.\u001b[0m\u001b[0mdot\u001b[0m\u001b[0;34m(\u001b[0m\u001b[0mgamma\u001b[0m\u001b[0;34m.\u001b[0m\u001b[0mT\u001b[0m\u001b[0;34m,\u001b[0m \u001b[0mnp\u001b[0m\u001b[0;34m.\u001b[0m\u001b[0mdot\u001b[0m\u001b[0;34m(\u001b[0m\u001b[0mdiff\u001b[0m\u001b[0;34m,\u001b[0m \u001b[0mdiff\u001b[0m\u001b[0;34m.\u001b[0m\u001b[0mT\u001b[0m\u001b[0;34m)\u001b[0m\u001b[0;34m)\u001b[0m\u001b[0;34m\u001b[0m\u001b[0m\n\u001b[0m",
      "\u001b[0;31mValueError\u001b[0m: could not broadcast input array from shape (3,100) into shape (2,2)"
     ]
    }
   ],
   "source": [
    "Sigma_update = np.zeros([K, D, D])\n",
    "for j in range(K):\n",
    "    \n",
    "    diff = data - mu_update[j]\n",
    "    print((n_inv * np.dot(gamma.T, np.dot(diff, diff.T))).shape)\n",
    "    Sigma_update[j, :, :] = np.dot(gamma.T, np.dot(diff, diff.T))\n"
   ]
  },
  {
   "cell_type": "code",
   "execution_count": 714,
   "metadata": {},
   "outputs": [],
   "source": [
    "Sigma_update = np.zeros([K, D, D])\n",
    "for j in range(K):\n",
    "    for i in range(N):\n",
    "        diff = data[i] - mu_update[j]\n",
    "        Sigma_update[j, :, :] += gamma[i][j]*(diff.T.dot(diff))\n"
   ]
  },
  {
   "cell_type": "code",
   "execution_count": 643,
   "metadata": {},
   "outputs": [
    {
     "data": {
      "text/plain": [
       "(100, 3)"
      ]
     },
     "execution_count": 643,
     "metadata": {},
     "output_type": "execute_result"
    }
   ],
   "source": [
    "gamma.shape"
   ]
  },
  {
   "cell_type": "code",
   "execution_count": 644,
   "metadata": {},
   "outputs": [
    {
     "data": {
      "text/plain": [
       "(100, 2)"
      ]
     },
     "execution_count": 644,
     "metadata": {},
     "output_type": "execute_result"
    }
   ],
   "source": [
    "data.shape"
   ]
  },
  {
   "cell_type": "code",
   "execution_count": 642,
   "metadata": {},
   "outputs": [
    {
     "data": {
      "text/plain": [
       "array([ 43.36277483,  33.35210234,  23.28512283])"
      ]
     },
     "execution_count": 642,
     "metadata": {},
     "output_type": "execute_result"
    }
   ],
   "source": [
    "gamma, n = gmm.fit(data, K)\n",
    "\n",
    "n"
   ]
  },
  {
   "cell_type": "code",
   "execution_count": 649,
   "metadata": {},
   "outputs": [
    {
     "data": {
      "text/plain": [
       "(100, 3)"
      ]
     },
     "execution_count": 649,
     "metadata": {},
     "output_type": "execute_result"
    }
   ],
   "source": [
    "gamma.shape"
   ]
  },
  {
   "cell_type": "code",
   "execution_count": 650,
   "metadata": {},
   "outputs": [
    {
     "data": {
      "text/plain": [
       "(100, 2)"
      ]
     },
     "execution_count": 650,
     "metadata": {},
     "output_type": "execute_result"
    }
   ],
   "source": [
    "data.shape"
   ]
  },
  {
   "cell_type": "code",
   "execution_count": 651,
   "metadata": {},
   "outputs": [
    {
     "data": {
      "text/plain": [
       "(3, 2)"
      ]
     },
     "execution_count": 651,
     "metadata": {},
     "output_type": "execute_result"
    }
   ],
   "source": [
    "means.shape"
   ]
  },
  {
   "cell_type": "code",
   "execution_count": 659,
   "metadata": {},
   "outputs": [
    {
     "data": {
      "text/plain": [
       "array([[ 4.85237497, -0.08285244],\n",
       "       [-1.07754517,  4.65192766],\n",
       "       [-4.10972794, -1.43901082]])"
      ]
     },
     "execution_count": 659,
     "metadata": {},
     "output_type": "execute_result"
    }
   ],
   "source": [
    "np.dot(gamma.T, data) / n[:, np.newaxis]"
   ]
  },
  {
   "cell_type": "code",
   "execution_count": 660,
   "metadata": {},
   "outputs": [
    {
     "data": {
      "text/plain": [
       "array([[ 4.85237497, -0.08285244],\n",
       "       [-1.07754517,  4.65192766],\n",
       "       [-4.10972794, -1.43901082]])"
      ]
     },
     "execution_count": 660,
     "metadata": {},
     "output_type": "execute_result"
    }
   ],
   "source": [
    "1/n[:, np.newaxis] * np.dot(gamma.T, data)"
   ]
  },
  {
   "cell_type": "code",
   "execution_count": null,
   "metadata": {},
   "outputs": [],
   "source": [
    "np.random.cho"
   ]
  },
  {
   "cell_type": "code",
   "execution_count": 230,
   "metadata": {},
   "outputs": [],
   "source": [
    "idxs = np.random.choice(np.arange(N), size=K, replace=False)\n",
    "cluster_means = data[idxs]"
   ]
  },
  {
   "cell_type": "code",
   "execution_count": 231,
   "metadata": {},
   "outputs": [
    {
     "data": {
      "text/plain": [
       "array([[-1.88594428,  4.48667459],\n",
       "       [-3.0714901 , -0.26545886],\n",
       "       [ 6.338028  , -3.28331309]])"
      ]
     },
     "execution_count": 231,
     "metadata": {},
     "output_type": "execute_result"
    }
   ],
   "source": [
    "cluster_means"
   ]
  },
  {
   "cell_type": "code",
   "execution_count": 235,
   "metadata": {},
   "outputs": [
    {
     "data": {
      "text/plain": [
       "array([[ 1.64625015,  0.02710812],\n",
       "       [ 2.83179597,  4.77924158],\n",
       "       [-6.57772213,  7.7970958 ]])"
      ]
     },
     "execution_count": 235,
     "metadata": {},
     "output_type": "execute_result"
    }
   ],
   "source": [
    "d-cluster_means"
   ]
  },
  {
   "cell_type": "code",
   "execution_count": 256,
   "metadata": {},
   "outputs": [],
   "source": [
    "clusters = np.ndarray(data.shape[0], dtype=np.int8)\n",
    "for i, d in enumerate(data):\n",
    "    clusters[i] = np.argmin(np.linalg.norm(d-cluster_means, axis=1))"
   ]
  },
  {
   "cell_type": "code",
   "execution_count": 262,
   "metadata": {},
   "outputs": [
    {
     "data": {
      "text/plain": [
       "array([1, 0, 1, 2, 2, 0, 0, 1, 1, 1, 0, 0, 0, 1, 1, 2, 2, 0, 2, 0, 0, 0, 0,\n",
       "       1, 2, 1, 0, 0, 0, 1, 2, 0, 2, 1, 2, 1, 1, 2, 0, 2, 1, 0, 0, 1, 2, 1,\n",
       "       0, 2, 0, 1, 1, 2, 1, 0, 1, 0, 0, 1, 1, 1, 1, 1, 0, 0, 0, 1, 0, 2, 2,\n",
       "       2, 0, 1, 0, 2, 1, 0, 0, 0, 0, 2, 0, 1, 0, 0, 1, 1, 0, 2, 0, 1, 0, 2,\n",
       "       2, 2, 2, 2, 0, 0, 0, 0])"
      ]
     },
     "execution_count": 262,
     "metadata": {},
     "output_type": "execute_result"
    }
   ],
   "source": [
    "find_closest_mean = lambda d: np.argmin(np.linalg.norm(d-cluster_means, axis=1))\n",
    "clusters = np.apply_along_axis(find_closest_mean, 1, data)\n",
    "clusters"
   ]
  },
  {
   "cell_type": "code",
   "execution_count": 263,
   "metadata": {},
   "outputs": [
    {
     "data": {
      "text/plain": [
       "array([[-2.67837659,  7.14165843],\n",
       "       [ 3.26997689,  6.53871497],\n",
       "       [-3.85703353,  4.43771247],\n",
       "       [ 0.27329036,  4.48456434],\n",
       "       [-0.65606044,  4.97016143],\n",
       "       [-1.34306894,  4.70830625],\n",
       "       [ 1.65126147,  5.17136828],\n",
       "       [ 4.10214328,  4.30958824],\n",
       "       [ 0.76835385,  3.23695984],\n",
       "       [-1.88594428,  4.48667459],\n",
       "       [ 1.30166614,  5.88774846],\n",
       "       [-0.3974211 ,  4.58961669],\n",
       "       [ 1.81686297,  6.35624003],\n",
       "       [-2.79947062,  4.18752033],\n",
       "       [-2.17885639,  5.54815167],\n",
       "       [ 0.5749308 ,  5.3145129 ],\n",
       "       [ 1.90048159,  3.68867577],\n",
       "       [ 0.66214507,  5.26105527],\n",
       "       [-1.48192792,  4.85352719],\n",
       "       [-0.1439537 ,  5.34490234],\n",
       "       [ 3.14213459,  6.39232575],\n",
       "       [-2.21490656,  4.43370227],\n",
       "       [-0.93122474,  5.85750325],\n",
       "       [-3.82486042,  5.11897849],\n",
       "       [ 0.58111559,  5.78182287],\n",
       "       [ 2.15738205,  3.93516885],\n",
       "       [-1.5205815 ,  5.2322537 ],\n",
       "       [-2.97413603,  4.97471237],\n",
       "       [-2.42831875,  2.20677027],\n",
       "       [ 3.13050236,  1.82631902],\n",
       "       [-2.77706524,  2.42933141],\n",
       "       [ 6.22507472,  4.9688132 ],\n",
       "       [-3.9874706 ,  4.75686554],\n",
       "       [ 0.7522105 ,  5.05062981],\n",
       "       [-2.07070319,  4.48703468],\n",
       "       [ 2.45146794,  4.66458898],\n",
       "       [ 1.00572532,  6.77892434],\n",
       "       [-1.63892856,  5.19534647],\n",
       "       [-0.36964354,  4.31282482],\n",
       "       [ 3.48911607,  5.128551  ],\n",
       "       [ 2.70653362,  4.84876403],\n",
       "       [ 3.93225104,  3.84561208],\n",
       "       [-0.23969413,  4.51378271]])"
      ]
     },
     "execution_count": 263,
     "metadata": {},
     "output_type": "execute_result"
    }
   ],
   "source": [
    "\n",
    "for k in K:\n",
    "    data[clusters == k]"
   ]
  },
  {
   "cell_type": "code",
   "execution_count": 599,
   "metadata": {},
   "outputs": [
    {
     "name": "stdout",
     "output_type": "stream",
     "text": [
      "[[ 0.  5.]\n",
      " [ 5.  0.]\n",
      " [-4. -1.]]\n",
      "[[[ 5.  0.]\n",
      "  [ 0.  1.]]\n",
      "\n",
      " [[ 1. -1.]\n",
      "  [-1.  3.]]\n",
      "\n",
      " [[ 1.  2.]\n",
      "  [ 2.  6.]]]\n"
     ]
    }
   ],
   "source": [
    "print(means)\n",
    "print(covs)"
   ]
  },
  {
   "cell_type": "code",
   "execution_count": 614,
   "metadata": {},
   "outputs": [
    {
     "data": {
      "text/plain": [
       "0.071176254341717718"
      ]
     },
     "execution_count": 614,
     "metadata": {},
     "output_type": "execute_result"
    }
   ],
   "source": [
    "from scipy.stats import multivariate_normal\n",
    "var = multivariate_normal(means[0], covs[0])\n",
    "var.pdf([0, 5])"
   ]
  }
 ],
 "metadata": {
  "kernelspec": {
   "display_name": "Python 3",
   "language": "python",
   "name": "python3"
  },
  "language_info": {
   "codemirror_mode": {
    "name": "ipython",
    "version": 3
   },
   "file_extension": ".py",
   "mimetype": "text/x-python",
   "name": "python",
   "nbconvert_exporter": "python",
   "pygments_lexer": "ipython3",
   "version": "3.5.2"
  }
 },
 "nbformat": 4,
 "nbformat_minor": 2
}
